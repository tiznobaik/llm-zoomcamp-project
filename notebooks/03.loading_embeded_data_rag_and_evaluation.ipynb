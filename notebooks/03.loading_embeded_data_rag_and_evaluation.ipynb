{
 "cells": [
  {
   "cell_type": "markdown",
   "id": "d3a339c5",
   "metadata": {},
   "source": [
    "# Skip Reindexing and Reuse Saved Embeddings"
   ]
  },
  {
   "cell_type": "markdown",
   "id": "9b5dc3f2",
   "metadata": {},
   "source": [
    "\n",
    "In this notebook, we will skip the embedding generation and re-indexing process by loading previously saved document embeddings and metadata from a JSON file. We will then use this data to directly query Elasticsearch and the RetrievalQA chain.\n",
    "    "
   ]
  },
  {
   "cell_type": "code",
   "execution_count": 1,
   "id": "7455d4fa",
   "metadata": {},
   "outputs": [
    {
     "name": "stdout",
     "output_type": "stream",
     "text": [
      "Loaded embeddings and metadata from JSON.\n"
     ]
    }
   ],
   "source": [
    "import json\n",
    "import numpy as np\n",
    "from elasticsearch import Elasticsearch\n",
    "from langchain.llms import OpenAI\n",
    "from langchain.chains import RetrievalQA\n",
    "from langchain.schema import Document\n",
    "from dotenv import load_dotenv\n",
    "from langchain.embeddings import OpenAIEmbeddings\n",
    "import os\n",
    "\n",
    "\n",
    "# Load the saved embeddings and metadata\n",
    "with open('document_embeddings.json', 'r') as f:\n",
    "    saved_data = json.load(f)\n",
    "\n",
    "# Extract texts, embeddings, and metadata\n",
    "texts = [item['text'] for item in saved_data]\n",
    "embeddings = [np.array(item['embedding']) for item in saved_data]\n",
    "metadatas = [item['metadata'] for item in saved_data]\n",
    "\n",
    "print(\"Loaded embeddings and metadata from JSON.\")\n",
    "    "
   ]
  },
  {
   "cell_type": "code",
   "execution_count": 2,
   "id": "66186118",
   "metadata": {},
   "outputs": [
    {
     "name": "stdout",
     "output_type": "stream",
     "text": [
      "Index 'fcra_chunks' already exists in Elasticsearch. No re-indexing required.\n"
     ]
    }
   ],
   "source": [
    "\n",
    "# Initialize Elasticsearch connection\n",
    "es = Elasticsearch([{'host': 'localhost', 'port': 9200, 'scheme': 'http'}])\n",
    "index_name = 'fcra_chunks'\n",
    "\n",
    "# Check if the index already exists\n",
    "if es.indices.exists(index=index_name):\n",
    "    print(f\"Index '{index_name}' already exists in Elasticsearch. No re-indexing required.\")\n",
    "else:\n",
    "    print(f\"Index '{index_name}' does not exist. Re-indexing is required.\")\n",
    "    index_name = 'fcra_chunks'\n",
    "\n",
    "    # Delete the index if it already exists (optional)\n",
    "    if es.indices.exists(index=index_name):\n",
    "        es.indices.delete(index=index_name)\n",
    "\n",
    "    # Define the mapping\n",
    "    mapping = {\n",
    "        \"mappings\": {\n",
    "            \"properties\": {\n",
    "                \"embedding\": {\n",
    "                    \"type\": \"dense_vector\",\n",
    "                    \"dims\": 1536\n",
    "                },\n",
    "                \"text\": {\n",
    "                    \"type\": \"text\"\n",
    "                },\n",
    "                \"metadata\": {\n",
    "                    \"type\": \"object\",\n",
    "                    \"enabled\": True\n",
    "                }\n",
    "            }\n",
    "        }\n",
    "    }\n",
    "\n",
    "    # Create the index with the mapping\n",
    "    es.indices.create(index=index_name, body=mapping)\n"
   ]
  },
  {
   "cell_type": "code",
   "execution_count": 3,
   "id": "9a08c8d4",
   "metadata": {},
   "outputs": [
    {
     "name": "stderr",
     "output_type": "stream",
     "text": [
      "/var/folders/bs/rk6rcnf923l4k8xms3k927hr0000gn/T/ipykernel_5030/3451141637.py:5: LangChainDeprecationWarning: The class `OpenAIEmbeddings` was deprecated in LangChain 0.0.9 and will be removed in 1.0. An updated version of the class exists in the :class:`~langchain-openai package and should be used instead. To use it run `pip install -U :class:`~langchain-openai` and import as `from :class:`~langchain_openai import OpenAIEmbeddings``.\n",
      "  embedding_model = OpenAIEmbeddings(openai_api_key=os.getenv(\"OPENAI_API_KEY\"))\n"
     ]
    }
   ],
   "source": [
    "#  Load environment variables\n",
    "load_dotenv()\n",
    "\n",
    "# Initialize the embedding model with the API key\n",
    "embedding_model = OpenAIEmbeddings(openai_api_key=os.getenv(\"OPENAI_API_KEY\"))"
   ]
  },
  {
   "cell_type": "code",
   "execution_count": 4,
   "id": "0b6b0327",
   "metadata": {},
   "outputs": [
    {
     "name": "stderr",
     "output_type": "stream",
     "text": [
      "/var/folders/bs/rk6rcnf923l4k8xms3k927hr0000gn/T/ipykernel_5030/330155363.py:2: LangChainDeprecationWarning: The class `OpenAI` was deprecated in LangChain 0.0.10 and will be removed in 1.0. An updated version of the class exists in the :class:`~langchain-openai package and should be used instead. To use it run `pip install -U :class:`~langchain-openai` and import as `from :class:`~langchain_openai import OpenAI``.\n",
      "  llm = OpenAI(openai_api_key=os.getenv(\"OPENAI_API_KEY\"))\n",
      "/var/folders/bs/rk6rcnf923l4k8xms3k927hr0000gn/T/ipykernel_5030/330155363.py:12: DeprecationWarning: Retrievers must implement abstract `_get_relevant_documents` method instead of `get_relevant_documents`\n",
      "  class ElasticSearchRetriever(BaseRetriever, BaseModel):\n"
     ]
    }
   ],
   "source": [
    "# Initialize the LLM (GPT)\n",
    "llm = OpenAI(openai_api_key=os.getenv(\"OPENAI_API_KEY\"))\n",
    "\n",
    "# Create a Custom Retriever Using Elasticsearch\n",
    "\n",
    "from langchain.schema import Document\n",
    "from langchain.schema import BaseRetriever\n",
    "from typing import Any, List\n",
    "import numpy as np\n",
    "from pydantic import BaseModel\n",
    "\n",
    "class ElasticSearchRetriever(BaseRetriever, BaseModel):\n",
    "    es: Any\n",
    "    index_name: str\n",
    "    embedding_model: Any\n",
    "    k: int = 5\n",
    "\n",
    "    class Config:\n",
    "        arbitrary_types_allowed = True\n",
    "\n",
    "    def get_relevant_documents(self, query: str) -> List[Document]:\n",
    "        # Generate and normalize the query embedding\n",
    "        query_embedding = self.embedding_model.embed_query(query)\n",
    "        query_embedding = query_embedding / np.linalg.norm(query_embedding)\n",
    "\n",
    "        # Build the script score query\n",
    "        script_query = {\n",
    "            \"size\": self.k,\n",
    "            \"query\": {\n",
    "                \"script_score\": {\n",
    "                    \"query\": {\"match_all\": {}},\n",
    "                    \"script\": {\n",
    "                        \"source\": \"cosineSimilarity(params.query_vector, 'embedding') + 1.0\",\n",
    "                        \"params\": {\n",
    "                            \"query_vector\": query_embedding.tolist()\n",
    "                        }\n",
    "                    }\n",
    "                }\n",
    "            },\n",
    "            \"_source\": [\"text\", \"metadata\"]\n",
    "        }\n",
    "\n",
    "        # Execute the search\n",
    "        response = self.es.search(index=self.index_name, body=script_query)\n",
    "\n",
    "        # Convert hits to Documents\n",
    "        docs = []\n",
    "        for hit in response['hits']['hits']:\n",
    "            doc = Document(\n",
    "                page_content=hit['_source']['text'],\n",
    "                metadata=hit['_source']['metadata']\n",
    "            )\n",
    "            docs.append(doc)\n",
    "        return docs\n",
    "\n",
    "# Initialize the Retriever\n",
    "retriever = ElasticSearchRetriever(\n",
    "    es=es,\n",
    "    index_name=index_name,\n",
    "    embedding_model=embedding_model,\n",
    "    k=5  # Number of documents to retrieve\n",
    ")"
   ]
  },
  {
   "cell_type": "code",
   "execution_count": 5,
   "id": "6ba57c5d",
   "metadata": {},
   "outputs": [],
   "source": [
    "# Create the RetrievalQA chain using the from_chain_type method\n",
    "from langchain.chains import RetrievalQA\n",
    "from langchain.prompts import PromptTemplate\n",
    "\n",
    "# Define a custom prompt template that encourages the model to use only the retrieved documents\n",
    "prompt_template = \"\"\"\n",
    "You are a helpful assistant that answers questions based only on the following documents:\n",
    "\n",
    "{context}\n",
    "\n",
    "If the answer is not in the documents, respond with \"I don't know based on the information provided.\"\n",
    "Question: {question}\n",
    "\"\"\"\n",
    "\n",
    "# Create a prompt object using the custom prompt template\n",
    "prompt = PromptTemplate(template=prompt_template, input_variables=[\"context\", \"question\"])\n",
    "\n",
    "\n",
    "qa_chain = RetrievalQA.from_chain_type(\n",
    "    llm=llm, \n",
    "    chain_type=\"stuff\",\n",
    "    retriever=retriever,\n",
    "    chain_type_kwargs={\"prompt\": prompt}\n",
    ")"
   ]
  },
  {
   "cell_type": "code",
   "execution_count": 9,
   "id": "753d7b6b",
   "metadata": {},
   "outputs": [
    {
     "name": "stdout",
     "output_type": "stream",
     "text": [
      "Answer: \n",
      "Answer: Prescreening under the FCRA Law refers to the practice of obtaining a \"prescreened\" list of consumers in order to make \"firm offers\" of credit or insurance. This allows companies to target specific consumers with offers based on their credit information without obtaining a consumer report for marketing purposes.\n"
     ]
    }
   ],
   "source": [
    "# Run a test query\n",
    "query = \"What is prescreening under the FCRA Law, and what does it allow companies to do?\"\n",
    "# query = \"What is the capital city of France?\"\n",
    "\n",
    "answer = qa_chain.run(query)\n",
    "print(\"Answer:\", answer)\n",
    "    "
   ]
  },
  {
   "cell_type": "code",
   "execution_count": 8,
   "id": "d1d6dd66",
   "metadata": {},
   "outputs": [
    {
     "name": "stdout",
     "output_type": "stream",
     "text": [
      "Query: What are the permissible purposes for obtaining a consumer report?\n",
      "Answer: \n",
      "Answer: The permissible purposes for obtaining a consumer report include determining eligibility for credit, insurance, government benefits, renting an apartment, opening a bank account, or cashing a check. Additionally, there is a catch-all phrase for \"legitimate business need for the information,\" but this only applies if the consumer initiates the transaction or has an existing account. If the purpose is not listed as a permissible purpose, it is not allowed under the FCRA.\n",
      "------\n",
      "Query: Explain the dispute process under the FCRA. Which module did you used to answer this question?\n",
      "Answer: \n",
      "The dispute process under the FCRA is explained in Module 12: Investigative Consumer Reports. According to this module, consumers have the right to dispute any inaccurate information in their consumer report by contacting the consumer reporting agency and providing any necessary supporting documents. The agency must then investigate the dispute and correct any errors within a reasonable amount of time. If the dispute is not resolved to the consumer's satisfaction, they can then request that a brief statement of the dispute be included in future consumer reports.\n",
      "------\n",
      "Query: What obligations do credit reporting agencies have according to the FCRA? Which module did you used to answer this question?\n",
      "Answer: \n",
      "Answer: Credit reporting agencies have obligations to protect consumer data, adhere to \"permissible purpose\" requirements, and maintain reasonable data accuracy according to the FCRA. This information can be found in the FCRA Law section, specifically in Section 603(f) and 604(g).\n",
      "------\n"
     ]
    }
   ],
   "source": [
    "queries = [\n",
    "    \"What are the permissible purposes for obtaining a consumer report?\",\n",
    "    \"Explain the dispute process under the FCRA. Which module did you used to answer this question?\",\n",
    "    \"What obligations do credit reporting agencies have according to the FCRA? Which module did you used to answer this question?\"\n",
    "]\n",
    "\n",
    "for query in queries:\n",
    "    answer = qa_chain.run(query)\n",
    "    print(f\"Query: {query}\")\n",
    "    print(f\"Answer: {answer}\")\n",
    "    print(\"------\")"
   ]
  },
  {
   "cell_type": "code",
   "execution_count": 11,
   "id": "c71ac98e",
   "metadata": {},
   "outputs": [
    {
     "name": "stderr",
     "output_type": "stream",
     "text": [
      "/Users/hani/Library/Caches/pypoetry/virtualenvs/llm-zoomcamp-project-qjMeP1Bu-py3.11/lib/python3.11/site-packages/sentence_transformers/cross_encoder/CrossEncoder.py:13: TqdmWarning: IProgress not found. Please update jupyter and ipywidgets. See https://ipywidgets.readthedocs.io/en/stable/user_install.html\n",
      "  from tqdm.autonotebook import tqdm, trange\n"
     ]
    }
   ],
   "source": [
    "import json\n",
    "from sentence_transformers import SentenceTransformer, util"
   ]
  },
  {
   "cell_type": "markdown",
   "id": "6c63adbe",
   "metadata": {},
   "source": [
    "## Evaluation"
   ]
  },
  {
   "cell_type": "code",
   "execution_count": 15,
   "id": "aec0380b",
   "metadata": {},
   "outputs": [],
   "source": [
    "# Load the ground truth data\n",
    "ground_truth_file = '../data/Ground Truth/ground_truth.json'\n",
    "with open(ground_truth_file, 'r') as f:\n",
    "    ground_truth_data = json.load(f)"
   ]
  },
  {
   "cell_type": "code",
   "execution_count": 16,
   "id": "d383134f",
   "metadata": {},
   "outputs": [],
   "source": [
    "import re\n",
    "\n",
    "def parse_questions_and_answers(qna_text):\n",
    "    \"\"\"\n",
    "    Parses the questions and answers from the provided text.\n",
    "    Returns a list of dictionaries with 'question' and 'answer' keys.\n",
    "    \"\"\"\n",
    "    qa_list = []\n",
    "    # Split the text into individual questions and answers\n",
    "    qa_entries = re.split(r'\\n\\n+', qna_text.strip())\n",
    "    for entry in qa_entries:\n",
    "        # Match the question and answer using regex\n",
    "        question_match = re.search(r'Question:\\s*(.*)', entry)\n",
    "        answer_match = re.search(r'Answer:\\s*(.*)', entry)\n",
    "        if question_match and answer_match:\n",
    "            question = question_match.group(1).strip()\n",
    "            answer = answer_match.group(1).strip()\n",
    "            qa_list.append({'question': question, 'ground_truth_answer': answer})\n",
    "    return qa_list\n"
   ]
  },
  {
   "cell_type": "code",
   "execution_count": 17,
   "id": "f0e83c8d",
   "metadata": {},
   "outputs": [],
   "source": [
    "def preprocess_text(text):\n",
    "    # Lowercase\n",
    "    text = text.lower()\n",
    "    # Remove punctuation (except for necessary ones like periods in abbreviations)\n",
    "    text = re.sub(r'[^\\w\\s]', '', text)\n",
    "    # Strip extra whitespace\n",
    "    text = text.strip()\n",
    "    return text\n"
   ]
  },
  {
   "cell_type": "code",
   "execution_count": 18,
   "id": "9d2ceeb6",
   "metadata": {},
   "outputs": [],
   "source": [
    "model = SentenceTransformer('all-MiniLM-L6-v2')"
   ]
  },
  {
   "cell_type": "code",
   "execution_count": 19,
   "id": "150cc125",
   "metadata": {},
   "outputs": [
    {
     "name": "stdout",
     "output_type": "stream",
     "text": [
      "Module: Module 01.txt\n",
      "Question: What was the main purpose of implementing the Fair Credit Reporting Act (FCRA)?\n",
      "Cosine Similarity: 0.7732\n",
      "\n",
      "Module: Module 01.txt\n",
      "Question: What rights does the FCRA provide to consumers regarding their data held by consumer reporting agencies?\n",
      "Cosine Similarity: 0.8943\n",
      "\n",
      "Module: Module 01.txt\n",
      "Question: What obligations does the FCRA impose on companies taking adverse actions based on consumer reports?\n",
      "Cosine Similarity: 0.8929\n",
      "\n",
      "Module: Module 02.txt\n",
      "Question: What is the main focus of Module 2 in regards to consumer reports?\n",
      "Cosine Similarity: 0.7659\n",
      "\n",
      "Module: Module 02.txt\n",
      "Question: What obligations does the Gramm-Leach-Bliley Act impose on financial institutions regarding customer information?\n",
      "Cosine Similarity: 0.6848\n",
      "\n",
      "Module: Module 02.txt\n",
      "Question: How does the Gramm-Leach-Bliley Act address exceptions for disclosing customer information to third parties?\n",
      "Cosine Similarity: 0.6233\n",
      "\n",
      "Module: Module 04.txt\n",
      "Question: What is prescreening under the FCRA Law, and what does it allow companies to do?\n",
      "Cosine Similarity: 0.9319\n",
      "\n",
      "Module: Module 04.txt\n",
      "Question: What are some of the requirements outlined in the FCRA Law regarding firm offers of credit or insurance?\n",
      "Cosine Similarity: 0.7397\n",
      "\n",
      "Module: Module 04.txt\n",
      "Question: What are the key obligations for companies when making firm offers of credit or insurance under the FCRA Law?\n",
      "Cosine Similarity: 0.5642\n",
      "\n",
      "Module: Module 05.txt\n",
      "Question: What are the key laws that mandate the duties and notification requirements for users of consumer reports when taking adverse action?\n",
      "Cosine Similarity: 0.6062\n",
      "\n",
      "Module: Module 05.txt\n",
      "Question: In what situations are credit card issuers required to provide risk-based pricing notices to consumers?\n",
      "Cosine Similarity: 0.8379\n",
      "\n",
      "Module: Module 05.txt\n",
      "Question: Who is responsible for providing risk-based pricing notices to consumers in multi-party transactions, as explained in the section on Section 1022 of the Consumer Financial Protection Bureau regulations?\n",
      "Cosine Similarity: 0.8421\n",
      "\n",
      "Module: Module 06.txt\n",
      "Question: What is the primary purpose of Module 6 in the context of information security and data disposal?\n",
      "Cosine Similarity: 0.7623\n",
      "\n",
      "Module: Module 06.txt\n",
      "Question: What are the key types of safeguards financial institutions are required to implement to protect consumer data, as outlined in the Safeguard Rule?\n",
      "Cosine Similarity: 0.8934\n",
      "\n",
      "Module: Module 06.txt\n",
      "Question: Why is proper disposal of consumer information emphasized in data security regulations?\n",
      "Cosine Similarity: 0.8417\n",
      "\n",
      "Module: Module 07.txt\n",
      "Question: What restrictions does the FCRA place on the inclusion of medical information in consumer reports?\n",
      "Cosine Similarity: 0.8682\n",
      "\n",
      "Module: Module 07.txt\n",
      "Question: How should medical information be handled in consumer reports according to the FCRA?\n",
      "Cosine Similarity: 0.7226\n",
      "\n",
      "Module: Module 07.txt\n",
      "Question: What is the goal of the restrictions imposed by the FCRA on the inclusion and use of medical information in consumer reports?\n",
      "Cosine Similarity: 0.7366\n",
      "\n",
      "Module: Module 10.txt\n",
      "Question: Who is responsible for overseeing compliance with the Identity Theft Red Flags Rule and ensuring the implementation of an Identity Theft Prevention Program within financial institutions and creditors?\n",
      "Cosine Similarity: 0.9150\n",
      "\n",
      "Module: Module 10.txt\n",
      "Question: What should be included in the Identity Theft Prevention Program required by the Red Flag Rules for financial institutions and creditors?\n",
      "Cosine Similarity: 0.8484\n",
      "\n",
      "Module: Module 10.txt\n",
      "Question: How can covered entities comply with the Red Flag Rules and minimize the risk of identity theft?\n",
      "Cosine Similarity: 0.8800\n",
      "\n",
      "Module: Module 11.txt\n",
      "Question: What are some key requirements outlined in Module 11 regarding the use of consumer reports for employment purposes under the Fair Credit Reporting Act (FCRA)?\n",
      "Cosine Similarity: 0.7939\n",
      "\n",
      "Module: Module 11.txt\n",
      "Question: Why is it important for businesses and consumer reporting agencies to prioritize the accuracy of consumer reports, especially in relation to public record information?\n",
      "Cosine Similarity: 0.7652\n",
      "\n",
      "Module: Module 11.txt\n",
      "Question: How does compliance with FCRA regulations help safeguard consumer rights in the employment context?\n",
      "Cosine Similarity: 0.9198\n",
      "\n"
     ]
    }
   ],
   "source": [
    "cosine_similarities = []\n",
    "\n",
    "for module_name, module_content in ground_truth_data.items():\n",
    "    qna_text = module_content.get('questions_and_answers', '')\n",
    "    # Parse the questions and answers\n",
    "    qa_list = parse_questions_and_answers(qna_text)\n",
    "    \n",
    "    for qa in qa_list:\n",
    "        question = qa['question']\n",
    "        ground_truth_answer = qa['ground_truth_answer']\n",
    "        \n",
    "        # Get the RAG answer\n",
    "        rag_answer = qa_chain.run(question)\n",
    "        \n",
    "        # Preprocess the answers\n",
    "        ground_truth_answer_pp = preprocess_text(ground_truth_answer)\n",
    "        rag_answer_pp = preprocess_text(rag_answer)\n",
    "        \n",
    "        # Handle cases where RAG answer indicates no information\n",
    "        if rag_answer_pp in [\"I don't know based on the information provided.\", \"\"]:\n",
    "            cosine_score = 0.0\n",
    "        else:\n",
    "            # Compute embeddings\n",
    "            gt_embedding = model.encode(ground_truth_answer_pp, convert_to_tensor=True)\n",
    "            rag_embedding = model.encode(rag_answer_pp, convert_to_tensor=True)\n",
    "            \n",
    "            # Compute cosine similarity\n",
    "            cosine_score = util.pytorch_cos_sim(gt_embedding, rag_embedding).item()\n",
    "        \n",
    "        # Store the result\n",
    "        cosine_similarities.append({\n",
    "            'module': module_name,\n",
    "            'question': question,\n",
    "            'ground_truth_answer': ground_truth_answer,\n",
    "            'rag_answer': rag_answer,\n",
    "            'cosine_similarity': cosine_score\n",
    "        })\n",
    "        \n",
    "        # Optional: Print the result for each question\n",
    "        print(f\"Module: {module_name}\")\n",
    "        print(f\"Question: {question}\")\n",
    "        print(f\"Cosine Similarity: {cosine_score:.4f}\\n\")\n"
   ]
  },
  {
   "cell_type": "code",
   "execution_count": 24,
   "id": "9d910baf",
   "metadata": {},
   "outputs": [
    {
     "name": "stdout",
     "output_type": "stream",
     "text": [
      "Average Cosine Similarity: 0.7960\n"
     ]
    }
   ],
   "source": [
    "# Calculate average cosine similarity\n",
    "average_cosine_similarity = sum([entry['cosine_similarity'] for entry in cosine_similarities]) / len(cosine_similarities)\n",
    "\n",
    "print(f\"Average Cosine Similarity: {average_cosine_similarity:.4f}\")\n",
    "\n",
    "# Save the results to a CSV file\n",
    "import csv\n",
    "\n",
    "with open('cosine_similarity_results.csv', 'w', newline='', encoding='utf-8') as csvfile:\n",
    "    fieldnames = ['module', 'question', 'ground_truth_answer', 'rag_answer', 'cosine_similarity']\n",
    "    writer = csv.DictWriter(csvfile, fieldnames=fieldnames)\n",
    "\n",
    "    writer.writeheader()\n",
    "    for entry in cosine_similarities:\n",
    "        writer.writerow(entry)"
   ]
  },
  {
   "cell_type": "code",
   "execution_count": 30,
   "id": "113f6cd5",
   "metadata": {},
   "outputs": [
    {
     "name": "stdout",
     "output_type": "stream",
     "text": [
      "Accuracy: 0.5000\n"
     ]
    }
   ],
   "source": [
    "# Define a threshold for considering an answer correct\n",
    "cosine_threshold = 0.8\n",
    "\n",
    "# Initialize counts\n",
    "correct_predictions = 0\n",
    "total_predictions = len(cosine_similarities)\n",
    "\n",
    "for entry in cosine_similarities:\n",
    "    cosine_score = entry['cosine_similarity']\n",
    "    if cosine_score >= cosine_threshold:\n",
    "        correct_predictions += 1\n",
    "\n",
    "# Calculate accuracy\n",
    "accuracy = correct_predictions / total_predictions if total_predictions > 0 else 0\n",
    "\n",
    "print(f\"Accuracy: {accuracy:.4f}\")\n"
   ]
  },
  {
   "cell_type": "code",
   "execution_count": 33,
   "id": "7e09460b",
   "metadata": {},
   "outputs": [
    {
     "name": "stdout",
     "output_type": "stream",
     "text": [
      "Threshold: 0.50, Accuracy: 1.0000\n",
      "Threshold: 0.55, Accuracy: 1.0000\n",
      "Threshold: 0.60, Accuracy: 0.9583\n",
      "Threshold: 0.65, Accuracy: 0.8750\n",
      "Threshold: 0.70, Accuracy: 0.8333\n",
      "Threshold: 0.75, Accuracy: 0.7083\n",
      "Threshold: 0.80, Accuracy: 0.5000\n",
      "Threshold: 0.85, Accuracy: 0.3333\n",
      "Threshold: 0.90, Accuracy: 0.1250\n",
      "Threshold: 0.95, Accuracy: 0.0000\n"
     ]
    }
   ],
   "source": [
    "thresholds = [i / 100 for i in range(50, 100, 5)]  # Thresholds from 0.50 to 0.95 in steps of 0.05\n",
    "\n",
    "import matplotlib.pyplot as plt\n",
    "\n",
    "# Assuming 'cosine_similarities' is a list of dictionaries from previous computations\n",
    "# Each entry has 'cosine_similarity' key\n",
    "\n",
    "thresholds = [i / 100 for i in range(50, 100, 5)]  # Thresholds from 0.50 to 0.95\n",
    "accuracies = []\n",
    "\n",
    "total_predictions = len(cosine_similarities)\n",
    "\n",
    "for threshold in thresholds:\n",
    "    correct_predictions = sum(1 for entry in cosine_similarities if entry['cosine_similarity'] >= threshold)\n",
    "    accuracy = correct_predictions / total_predictions if total_predictions > 0 else 0\n",
    "    accuracies.append(accuracy)\n",
    "    print(f\"Threshold: {threshold:.2f}, Accuracy: {accuracy:.4f}\")\n",
    "\n"
   ]
  },
  {
   "cell_type": "code",
   "execution_count": 34,
   "id": "3ea19336",
   "metadata": {},
   "outputs": [
    {
     "data": {
      "image/png": "[encoded data removed]",
      "text/plain": [
       "<Figure size 1000x600 with 1 Axes>"
      ]
     },
     "metadata": {},
     "output_type": "display_data"
    }
   ],
   "source": [
    "plt.figure(figsize=(10, 6))\n",
    "plt.plot(thresholds, accuracies, marker='o')\n",
    "plt.title('Model Accuracy at Different Cosine Similarity Thresholds')\n",
    "plt.xlabel('Cosine Similarity Threshold')\n",
    "plt.ylabel('Accuracy')\n",
    "plt.grid(True)\n",
    "plt.show()"
   ]
  }
 ],
 "metadata": {
  "kernelspec": {
   "display_name": "llm_project",
   "language": "python",
   "name": "python3"
  },
  "language_info": {
   "codemirror_mode": {
    "name": "ipython",
    "version": 3
   },
   "file_extension": ".py",
   "mimetype": "text/x-python",
   "name": "python",
   "nbconvert_exporter": "python",
   "pygments_lexer": "ipython3",
   "version": "3.11.6"
  }
 },
 "nbformat": 4,
 "nbformat_minor": 5
}
